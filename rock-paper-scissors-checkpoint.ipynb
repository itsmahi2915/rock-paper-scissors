{
 "cells": [
  {
   "cell_type": "markdown",
   "id": "4842430d-a1b3-4f12-bf01-7ea9198f45b2",
   "metadata": {},
   "source": [
    "<h3><b> Rock-Paper-Scissors </b></h3> "
   ]
  },
  {
   "cell_type": "code",
   "execution_count": 2,
   "id": "bd7145ac-0e99-4116-8b09-4f97ec5a1649",
   "metadata": {},
   "outputs": [],
   "source": [
    "# It determine by 3 simple rules.\n",
    "# Rock win against Scissors.\n",
    "# Scissors win against Paper.\n",
    "# Paper wins against Rock."
   ]
  },
  {
   "cell_type": "code",
   "execution_count": 2,
   "id": "17f3da0b-bbbb-4f67-a935-b2db8feca006",
   "metadata": {},
   "outputs": [],
   "source": [
    "import random"
   ]
  },
  {
   "cell_type": "code",
   "execution_count": 14,
   "id": "87580937-7df0-4dc5-850d-24a5a62d5275",
   "metadata": {},
   "outputs": [
    {
     "name": "stdin",
     "output_type": "stream",
     "text": [
      "what do you choose ? type 0 for Rock, 1 for Paper and 2 for Scissors.\n",
      " 0\n"
     ]
    },
    {
     "name": "stdout",
     "output_type": "stream",
     "text": [
      "\n",
      "    _______\n",
      "---'   ____)\n",
      "      (_____)\n",
      "      (_____)\n",
      "      (____)\n",
      "---.__(___)\n",
      "\n",
      "computer choice: \n",
      "\n",
      "    _______\n",
      "---'   ____)____\n",
      "          ______)\n",
      "          _______)\n",
      "         _______)\n",
      "---.__________)\n",
      "\n",
      "you lose.\n"
     ]
    }
   ],
   "source": [
    "rock = '''\n",
    "    _______\n",
    "---'   ____)\n",
    "      (_____)\n",
    "      (_____)\n",
    "      (____)\n",
    "---.__(___)\n",
    "'''\n",
    "paper = '''\n",
    "    _______\n",
    "---'   ____)____\n",
    "          ______)\n",
    "          _______)\n",
    "         _______)\n",
    "---.__________)\n",
    "'''\n",
    "scissors = '''\n",
    "    _______\n",
    "---'   ____)____\n",
    "          ______)\n",
    "       __________)\n",
    "      (____)\n",
    "---.__(___)\n",
    "'''\n",
    "\n",
    "game_images = [rock, paper, scissors]\n",
    "user_choice = int(input(\"what do you choose ? type 0 for Rock, 1 for Paper and 2 for Scissors.\\n\"))\n",
    "if user_choice >= 3 or user_choice < 0 :\n",
    "    print(\"you enter invalid number. you lose!\")\n",
    "else:\n",
    "    print(game_images[user_choice])\n",
    "    computer_choice = random.randint(0,2)\n",
    "    print(\"computer choice: \")\n",
    "    print(game_images[computer_choice])\n",
    "if computer_choice == user_choice:\n",
    "    print(\"it's a draw.\")\n",
    "elif computer_choice == 0 and user_choice == 2:\n",
    "    print(\"you lose.\")\n",
    "elif user_choice == 0 and computer_choice == 2:\n",
    "    print(\"you win.\")\n",
    "elif computer_choice > user_choice:\n",
    "    print(\"you lose.\")\n",
    "elif user_choice > computer_choice:\n",
    "   print(\"you win.\")"
   ]
  },
  {
   "cell_type": "code",
   "execution_count": null,
   "id": "bab8973b-5f75-494b-91d3-1513c683ef91",
   "metadata": {},
   "outputs": [],
   "source": []
  }
 ],
 "metadata": {
  "kernelspec": {
   "display_name": "Python 3 (ipykernel)",
   "language": "python",
   "name": "python3"
  },
  "language_info": {
   "codemirror_mode": {
    "name": "ipython",
    "version": 3
   },
   "file_extension": ".py",
   "mimetype": "text/x-python",
   "name": "python",
   "nbconvert_exporter": "python",
   "pygments_lexer": "ipython3",
   "version": "3.12.0"
  }
 },
 "nbformat": 4,
 "nbformat_minor": 5
}
